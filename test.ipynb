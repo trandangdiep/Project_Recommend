{
 "cells": [
  {
   "cell_type": "code",
   "execution_count": 3,
   "metadata": {},
   "outputs": [],
   "source": [
    "import pandas as pd"
   ]
  },
  {
   "cell_type": "markdown",
   "metadata": {},
   "source": [
    "### Gộp link hình ảnh vào file Product.csv"
   ]
  },
  {
   "cell_type": "code",
   "execution_count": 3,
   "metadata": {},
   "outputs": [],
   "source": [
    "df_hinhanh = pd.read_csv('data/hinhanh.csv')"
   ]
  },
  {
   "cell_type": "code",
   "execution_count": 6,
   "metadata": {},
   "outputs": [
    {
     "data": {
      "text/plain": [
       "(1127, 3)"
      ]
     },
     "execution_count": 6,
     "metadata": {},
     "output_type": "execute_result"
    }
   ],
   "source": [
    "df_hinhanh.shape"
   ]
  },
  {
   "cell_type": "code",
   "execution_count": 7,
   "metadata": {},
   "outputs": [
    {
     "data": {
      "text/plain": [
       "(1127, 3)"
      ]
     },
     "execution_count": 7,
     "metadata": {},
     "output_type": "execute_result"
    }
   ],
   "source": [
    "df_hinhanh=df_hinhanh.drop_duplicates()\n",
    "df_hinhanh.shape"
   ]
  },
  {
   "cell_type": "code",
   "execution_count": 8,
   "metadata": {},
   "outputs": [
    {
     "data": {
      "text/plain": [
       "(1127, 3)"
      ]
     },
     "execution_count": 8,
     "metadata": {},
     "output_type": "execute_result"
    }
   ],
   "source": [
    "df_hinhanh=df_hinhanh.dropna()\n",
    "df_hinhanh.shape"
   ]
  },
  {
   "cell_type": "code",
   "execution_count": 9,
   "metadata": {},
   "outputs": [],
   "source": [
    "df_hinhanh = df_hinhanh.drop(columns='hinh_anh')"
   ]
  },
  {
   "cell_type": "code",
   "execution_count": 10,
   "metadata": {},
   "outputs": [],
   "source": [
    "df_hinhanh.rename(columns={\"hinh_anh_2\": \"hinh_anh\"}, inplace=True)"
   ]
  },
  {
   "cell_type": "code",
   "execution_count": 11,
   "metadata": {},
   "outputs": [
    {
     "data": {
      "text/html": [
       "<div>\n",
       "<style scoped>\n",
       "    .dataframe tbody tr th:only-of-type {\n",
       "        vertical-align: middle;\n",
       "    }\n",
       "\n",
       "    .dataframe tbody tr th {\n",
       "        vertical-align: top;\n",
       "    }\n",
       "\n",
       "    .dataframe thead th {\n",
       "        text-align: right;\n",
       "    }\n",
       "</style>\n",
       "<table border=\"1\" class=\"dataframe\">\n",
       "  <thead>\n",
       "    <tr style=\"text-align: right;\">\n",
       "      <th></th>\n",
       "      <th>ma_san_pham</th>\n",
       "      <th>hinh_anh</th>\n",
       "    </tr>\n",
       "  </thead>\n",
       "  <tbody>\n",
       "    <tr>\n",
       "      <th>0</th>\n",
       "      <td>253900006</td>\n",
       "      <td>https://media.hcdn.vn/catalog/product/p/r/prom...</td>\n",
       "    </tr>\n",
       "    <tr>\n",
       "      <th>1</th>\n",
       "      <td>422218358</td>\n",
       "      <td>https://media.hcdn.vn/catalog/product/p/r/prom...</td>\n",
       "    </tr>\n",
       "    <tr>\n",
       "      <th>2</th>\n",
       "      <td>422218359</td>\n",
       "      <td>https://media.hcdn.vn/catalog/product/p/r/prom...</td>\n",
       "    </tr>\n",
       "    <tr>\n",
       "      <th>3</th>\n",
       "      <td>204900013</td>\n",
       "      <td>https://media.hcdn.vn/catalog/product/p/r/prom...</td>\n",
       "    </tr>\n",
       "    <tr>\n",
       "      <th>4</th>\n",
       "      <td>100160022</td>\n",
       "      <td>https://media.hcdn.vn/catalog/product/p/r/prom...</td>\n",
       "    </tr>\n",
       "  </tbody>\n",
       "</table>\n",
       "</div>"
      ],
      "text/plain": [
       "   ma_san_pham                                           hinh_anh\n",
       "0    253900006  https://media.hcdn.vn/catalog/product/p/r/prom...\n",
       "1    422218358  https://media.hcdn.vn/catalog/product/p/r/prom...\n",
       "2    422218359  https://media.hcdn.vn/catalog/product/p/r/prom...\n",
       "3    204900013  https://media.hcdn.vn/catalog/product/p/r/prom...\n",
       "4    100160022  https://media.hcdn.vn/catalog/product/p/r/prom..."
      ]
     },
     "execution_count": 11,
     "metadata": {},
     "output_type": "execute_result"
    }
   ],
   "source": [
    "df_hinhanh.head()"
   ]
  },
  {
   "cell_type": "code",
   "execution_count": 4,
   "metadata": {},
   "outputs": [
    {
     "data": {
      "text/plain": [
       "(1219, 8)"
      ]
     },
     "execution_count": 4,
     "metadata": {},
     "output_type": "execute_result"
    }
   ],
   "source": [
    "df_product = pd.read_csv('data/Product.csv')\n",
    "df_product.shape"
   ]
  },
  {
   "cell_type": "code",
   "execution_count": 14,
   "metadata": {},
   "outputs": [],
   "source": [
    "df_product = df_product.drop(columns=['hinh_anh','Unnamed: 0'])"
   ]
  },
  {
   "cell_type": "code",
   "execution_count": 15,
   "metadata": {},
   "outputs": [
    {
     "data": {
      "text/html": [
       "<div>\n",
       "<style scoped>\n",
       "    .dataframe tbody tr th:only-of-type {\n",
       "        vertical-align: middle;\n",
       "    }\n",
       "\n",
       "    .dataframe tbody tr th {\n",
       "        vertical-align: top;\n",
       "    }\n",
       "\n",
       "    .dataframe thead th {\n",
       "        text-align: right;\n",
       "    }\n",
       "</style>\n",
       "<table border=\"1\" class=\"dataframe\">\n",
       "  <thead>\n",
       "    <tr style=\"text-align: right;\">\n",
       "      <th></th>\n",
       "      <th>ma_san_pham</th>\n",
       "      <th>ten_san_pham</th>\n",
       "      <th>gia_ban</th>\n",
       "      <th>gia_goc</th>\n",
       "      <th>phan_loai</th>\n",
       "      <th>mo_ta</th>\n",
       "      <th>diem_trung_binh</th>\n",
       "    </tr>\n",
       "  </thead>\n",
       "  <tbody>\n",
       "    <tr>\n",
       "      <th>0</th>\n",
       "      <td>318900012</td>\n",
       "      <td>Nước Hoa Hồng Klairs Không Mùi Cho Da Nhạy Cảm...</td>\n",
       "      <td>209000</td>\n",
       "      <td>435000.0</td>\n",
       "      <td>2x180ml 180ml Không Mùi Có Mùi Hương</td>\n",
       "      <td>Nước Hoa Hồng Klairs Supple Preparation là dòn...</td>\n",
       "      <td>4.8</td>\n",
       "    </tr>\n",
       "    <tr>\n",
       "      <th>1</th>\n",
       "      <td>205100137</td>\n",
       "      <td>Nước Tẩy Trang L'Oreal Tươi Mát Cho Da Dầu, Hỗ...</td>\n",
       "      <td>147000</td>\n",
       "      <td>229000.0</td>\n",
       "      <td>2x400ml 95ml 400ml Làm Sạch Sâu Tươi Mát Da Ki...</td>\n",
       "      <td>Nước Tẩy Trang L'Oréal là dòng sản phẩm tẩy tr...</td>\n",
       "      <td>4.7</td>\n",
       "    </tr>\n",
       "    <tr>\n",
       "      <th>2</th>\n",
       "      <td>422208973</td>\n",
       "      <td>Sữa Rửa Mặt CeraVe Sạch Sâu Cho Da Thường Đến ...</td>\n",
       "      <td>343000</td>\n",
       "      <td>455000.0</td>\n",
       "      <td>88ml 236ml 473ml Da khô/Hỗn hợp khô Da dầu/Hỗn...</td>\n",
       "      <td>Sữa Rửa Mặt Cerave Sạch Sâu là sản phẩm sữa rử...</td>\n",
       "      <td>4.9</td>\n",
       "    </tr>\n",
       "    <tr>\n",
       "      <th>3</th>\n",
       "      <td>204900013</td>\n",
       "      <td>Kem Chống Nắng La Roche-Posay Kiểm Soát Dầu SP...</td>\n",
       "      <td>377000</td>\n",
       "      <td>560000.0</td>\n",
       "      <td>2x50ml 50ml</td>\n",
       "      <td>Kem chống nắng giúp bảo vệ da khỏi tia UVB &amp; U...</td>\n",
       "      <td>4.6</td>\n",
       "    </tr>\n",
       "    <tr>\n",
       "      <th>4</th>\n",
       "      <td>253900006</td>\n",
       "      <td>Kem Chống Nắng Skin1004 Cho Da Nhạy Cảm SPF 50...</td>\n",
       "      <td>210000</td>\n",
       "      <td>445000.0</td>\n",
       "      <td>20ml 50ml</td>\n",
       "      <td>Kem Chống Nắng Skin1004 Cho Da Nhạy Cảm là sản...</td>\n",
       "      <td>4.6</td>\n",
       "    </tr>\n",
       "  </tbody>\n",
       "</table>\n",
       "</div>"
      ],
      "text/plain": [
       "   ma_san_pham                                       ten_san_pham  gia_ban  \\\n",
       "0    318900012  Nước Hoa Hồng Klairs Không Mùi Cho Da Nhạy Cảm...   209000   \n",
       "1    205100137  Nước Tẩy Trang L'Oreal Tươi Mát Cho Da Dầu, Hỗ...   147000   \n",
       "2    422208973  Sữa Rửa Mặt CeraVe Sạch Sâu Cho Da Thường Đến ...   343000   \n",
       "3    204900013  Kem Chống Nắng La Roche-Posay Kiểm Soát Dầu SP...   377000   \n",
       "4    253900006  Kem Chống Nắng Skin1004 Cho Da Nhạy Cảm SPF 50...   210000   \n",
       "\n",
       "    gia_goc                                          phan_loai  \\\n",
       "0  435000.0               2x180ml 180ml Không Mùi Có Mùi Hương   \n",
       "1  229000.0  2x400ml 95ml 400ml Làm Sạch Sâu Tươi Mát Da Ki...   \n",
       "2  455000.0  88ml 236ml 473ml Da khô/Hỗn hợp khô Da dầu/Hỗn...   \n",
       "3  560000.0                                        2x50ml 50ml   \n",
       "4  445000.0                                          20ml 50ml   \n",
       "\n",
       "                                               mo_ta  diem_trung_binh  \n",
       "0  Nước Hoa Hồng Klairs Supple Preparation là dòn...              4.8  \n",
       "1  Nước Tẩy Trang L'Oréal là dòng sản phẩm tẩy tr...              4.7  \n",
       "2  Sữa Rửa Mặt Cerave Sạch Sâu là sản phẩm sữa rử...              4.9  \n",
       "3  Kem chống nắng giúp bảo vệ da khỏi tia UVB & U...              4.6  \n",
       "4  Kem Chống Nắng Skin1004 Cho Da Nhạy Cảm là sản...              4.6  "
      ]
     },
     "execution_count": 15,
     "metadata": {},
     "output_type": "execute_result"
    }
   ],
   "source": [
    "df_product.head()"
   ]
  },
  {
   "cell_type": "code",
   "execution_count": 16,
   "metadata": {},
   "outputs": [
    {
     "name": "stdout",
     "output_type": "stream",
     "text": [
      "      ma_san_pham                                       ten_san_pham  gia_ban  \\\n",
      "0       318900012  Nước Hoa Hồng Klairs Không Mùi Cho Da Nhạy Cảm...   209000   \n",
      "1       205100137  Nước Tẩy Trang L'Oreal Tươi Mát Cho Da Dầu, Hỗ...   147000   \n",
      "2       422208973  Sữa Rửa Mặt CeraVe Sạch Sâu Cho Da Thường Đến ...   343000   \n",
      "3       204900013  Kem Chống Nắng La Roche-Posay Kiểm Soát Dầu SP...   377000   \n",
      "4       253900006  Kem Chống Nắng Skin1004 Cho Da Nhạy Cảm SPF 50...   210000   \n",
      "...           ...                                                ...      ...   \n",
      "1214    422219670  Serum Chống Nắng Dưỡng Thể Bioré Peach Pearly ...   185000   \n",
      "1215    226200001                      Khăn Tẩy Trang Acnes 20 Miếng    53000   \n",
      "1216    422218200  Mặt Nạ Colorkey Dưỡng Ẩm Sáng Da Với Niacinami...    11000   \n",
      "1217    422206775  [Mua 1 Tặng 1] Freeplus Kem Dưỡng Ẩm Màng Nước...   899000   \n",
      "1218    422207117  Lotion Curél Dưỡng Ẩm Chuyên Sâu Cho Da Lão Hó...   494000   \n",
      "\n",
      "       gia_goc                                          phan_loai  \\\n",
      "0     435000.0               2x180ml 180ml Không Mùi Có Mùi Hương   \n",
      "1     229000.0  2x400ml 95ml 400ml Làm Sạch Sâu Tươi Mát Da Ki...   \n",
      "2     455000.0  88ml 236ml 473ml Da khô/Hỗn hợp khô Da dầu/Hỗn...   \n",
      "3     560000.0                                        2x50ml 50ml   \n",
      "4     445000.0                                          20ml 50ml   \n",
      "...        ...                                                ...   \n",
      "1214  259000.0                      Light To Medium Medium To Tan   \n",
      "1215   65000.0                                                NaN   \n",
      "1216   15000.0  1 miếng 10 miếng Dưỡng Ẩm Ngừa Nụn Dưỡng Ẩm Dị...   \n",
      "1217  945000.0                                                NaN   \n",
      "1218  641000.0                                                NaN   \n",
      "\n",
      "                                                  mo_ta  diem_trung_binh  \\\n",
      "0     Nước Hoa Hồng Klairs Supple Preparation là dòn...              4.8   \n",
      "1     Nước Tẩy Trang L'Oréal là dòng sản phẩm tẩy tr...              4.7   \n",
      "2     Sữa Rửa Mặt Cerave Sạch Sâu là sản phẩm sữa rử...              4.9   \n",
      "3     Kem chống nắng giúp bảo vệ da khỏi tia UVB & U...              4.6   \n",
      "4     Kem Chống Nắng Skin1004 Cho Da Nhạy Cảm là sản...              4.6   \n",
      "...                                                 ...              ...   \n",
      "1214  Serum Chống Nắng Dưỡng Thể Bioré UV Aqua Rich ...              0.0   \n",
      "1215  Khăn Giấy Tẩy Trang Acnes Make Up Remover Shee...              3.5   \n",
      "1216  Mặt Nạ Colorkey Luminous B5 Facial Mask 25ml l...              4.0   \n",
      "1217  Bộ sản phẩm bao gồm 2 món:Kem Dưỡng Ẩm Màng Nư...              0.0   \n",
      "1218  Lotion Curél Dưỡng Ẩm Chuyên Sâu Cho Da Lão Hó...              5.0   \n",
      "\n",
      "                                               hinh_anh  \n",
      "0     https://media.hcdn.vn/catalog/product/p/r/prom...  \n",
      "1     https://media.hcdn.vn/catalog/product/f/a/face...  \n",
      "2     https://media.hcdn.vn/catalog/product/p/r/prom...  \n",
      "3     https://media.hcdn.vn/catalog/product/p/r/prom...  \n",
      "4     https://media.hcdn.vn/catalog/product/p/r/prom...  \n",
      "...                                                 ...  \n",
      "1214                                                NaN  \n",
      "1215  https://media.hcdn.vn/catalog/product/f/a/face...  \n",
      "1216                                                NaN  \n",
      "1217  https://media.hcdn.vn/catalog/product/f/a/face...  \n",
      "1218                                                NaN  \n",
      "\n",
      "[1219 rows x 8 columns]\n"
     ]
    }
   ],
   "source": [
    "df_merged = pd.merge(df_product, df_hinhanh, on=\"ma_san_pham\",how=\"left\")\n",
    "print(df_merged)"
   ]
  },
  {
   "cell_type": "code",
   "execution_count": 21,
   "metadata": {},
   "outputs": [
    {
     "data": {
      "text/plain": [
       "1219"
      ]
     },
     "execution_count": 21,
     "metadata": {},
     "output_type": "execute_result"
    }
   ],
   "source": [
    "len(df_merged)"
   ]
  },
  {
   "cell_type": "code",
   "execution_count": 24,
   "metadata": {},
   "outputs": [
    {
     "data": {
      "text/plain": [
       "np.int64(693)"
      ]
     },
     "execution_count": 24,
     "metadata": {},
     "output_type": "execute_result"
    }
   ],
   "source": [
    "df_merged['hinh_anh'].isna().sum()"
   ]
  },
  {
   "cell_type": "code",
   "execution_count": 25,
   "metadata": {},
   "outputs": [],
   "source": [
    "df_merged['hinh_anh'] = df_merged['hinh_anh'].fillna('https://hasaki.vn/img/placeholder.svg')"
   ]
  },
  {
   "cell_type": "code",
   "execution_count": 27,
   "metadata": {},
   "outputs": [
    {
     "data": {
      "text/plain": [
       "np.int64(533)"
      ]
     },
     "execution_count": 27,
     "metadata": {},
     "output_type": "execute_result"
    }
   ],
   "source": [
    "df_merged['phan_loai'].isna().sum()"
   ]
  },
  {
   "cell_type": "code",
   "execution_count": 28,
   "metadata": {},
   "outputs": [],
   "source": [
    "df_merged['phan_loai'] = df_merged['phan_loai'].fillna('None')"
   ]
  },
  {
   "cell_type": "code",
   "execution_count": 29,
   "metadata": {},
   "outputs": [
    {
     "name": "stdout",
     "output_type": "stream",
     "text": [
      "      ma_san_pham                                       ten_san_pham  gia_ban  \\\n",
      "0       318900012  Nước Hoa Hồng Klairs Không Mùi Cho Da Nhạy Cảm...   209000   \n",
      "1       205100137  Nước Tẩy Trang L'Oreal Tươi Mát Cho Da Dầu, Hỗ...   147000   \n",
      "2       422208973  Sữa Rửa Mặt CeraVe Sạch Sâu Cho Da Thường Đến ...   343000   \n",
      "3       204900013  Kem Chống Nắng La Roche-Posay Kiểm Soát Dầu SP...   377000   \n",
      "4       253900006  Kem Chống Nắng Skin1004 Cho Da Nhạy Cảm SPF 50...   210000   \n",
      "...           ...                                                ...      ...   \n",
      "1214    422219670  Serum Chống Nắng Dưỡng Thể Bioré Peach Pearly ...   185000   \n",
      "1215    226200001                      Khăn Tẩy Trang Acnes 20 Miếng    53000   \n",
      "1216    422218200  Mặt Nạ Colorkey Dưỡng Ẩm Sáng Da Với Niacinami...    11000   \n",
      "1217    422206775  [Mua 1 Tặng 1] Freeplus Kem Dưỡng Ẩm Màng Nước...   899000   \n",
      "1218    422207117  Lotion Curél Dưỡng Ẩm Chuyên Sâu Cho Da Lão Hó...   494000   \n",
      "\n",
      "       gia_goc                                          phan_loai  \\\n",
      "0     435000.0               2x180ml 180ml Không Mùi Có Mùi Hương   \n",
      "1     229000.0  2x400ml 95ml 400ml Làm Sạch Sâu Tươi Mát Da Ki...   \n",
      "2     455000.0  88ml 236ml 473ml Da khô/Hỗn hợp khô Da dầu/Hỗn...   \n",
      "3     560000.0                                        2x50ml 50ml   \n",
      "4     445000.0                                          20ml 50ml   \n",
      "...        ...                                                ...   \n",
      "1214  259000.0                      Light To Medium Medium To Tan   \n",
      "1215   65000.0                                               None   \n",
      "1216   15000.0  1 miếng 10 miếng Dưỡng Ẩm Ngừa Nụn Dưỡng Ẩm Dị...   \n",
      "1217  945000.0                                               None   \n",
      "1218  641000.0                                               None   \n",
      "\n",
      "                                                  mo_ta  diem_trung_binh  \\\n",
      "0     Nước Hoa Hồng Klairs Supple Preparation là dòn...              4.8   \n",
      "1     Nước Tẩy Trang L'Oréal là dòng sản phẩm tẩy tr...              4.7   \n",
      "2     Sữa Rửa Mặt Cerave Sạch Sâu là sản phẩm sữa rử...              4.9   \n",
      "3     Kem chống nắng giúp bảo vệ da khỏi tia UVB & U...              4.6   \n",
      "4     Kem Chống Nắng Skin1004 Cho Da Nhạy Cảm là sản...              4.6   \n",
      "...                                                 ...              ...   \n",
      "1214  Serum Chống Nắng Dưỡng Thể Bioré UV Aqua Rich ...              0.0   \n",
      "1215  Khăn Giấy Tẩy Trang Acnes Make Up Remover Shee...              3.5   \n",
      "1216  Mặt Nạ Colorkey Luminous B5 Facial Mask 25ml l...              4.0   \n",
      "1217  Bộ sản phẩm bao gồm 2 món:Kem Dưỡng Ẩm Màng Nư...              0.0   \n",
      "1218  Lotion Curél Dưỡng Ẩm Chuyên Sâu Cho Da Lão Hó...              5.0   \n",
      "\n",
      "                                               hinh_anh  \n",
      "0     https://media.hcdn.vn/catalog/product/p/r/prom...  \n",
      "1     https://media.hcdn.vn/catalog/product/f/a/face...  \n",
      "2     https://media.hcdn.vn/catalog/product/p/r/prom...  \n",
      "3     https://media.hcdn.vn/catalog/product/p/r/prom...  \n",
      "4     https://media.hcdn.vn/catalog/product/p/r/prom...  \n",
      "...                                                 ...  \n",
      "1214              https://hasaki.vn/img/placeholder.svg  \n",
      "1215  https://media.hcdn.vn/catalog/product/f/a/face...  \n",
      "1216              https://hasaki.vn/img/placeholder.svg  \n",
      "1217  https://media.hcdn.vn/catalog/product/f/a/face...  \n",
      "1218              https://hasaki.vn/img/placeholder.svg  \n",
      "\n",
      "[1219 rows x 8 columns]\n"
     ]
    }
   ],
   "source": [
    "print(df_merged)"
   ]
  },
  {
   "cell_type": "code",
   "execution_count": null,
   "metadata": {},
   "outputs": [],
   "source": [
    "df_merged.to_csv('Product.csv',index=False)"
   ]
  },
  {
   "cell_type": "code",
   "execution_count": 18,
   "metadata": {},
   "outputs": [
    {
     "data": {
      "text/plain": [
       "(20674, 7)"
      ]
     },
     "execution_count": 18,
     "metadata": {},
     "output_type": "execute_result"
    }
   ],
   "source": [
    "df_danhgia = pd.read_csv('data/Danh_gia1.csv')\n",
    "df_danhgia.shape"
   ]
  },
  {
   "cell_type": "code",
   "execution_count": 33,
   "metadata": {},
   "outputs": [],
   "source": [
    "df_danhgia.drop_duplicates(inplace=True)"
   ]
  },
  {
   "cell_type": "code",
   "execution_count": 19,
   "metadata": {},
   "outputs": [
    {
     "data": {
      "text/plain": [
       "id                    0\n",
       "ma_khach_hang         0\n",
       "noi_dung_binh_luan    0\n",
       "ngay_binh_luan        0\n",
       "gio_binh_luan         0\n",
       "so_sao                0\n",
       "ma_san_pham           0\n",
       "dtype: int64"
      ]
     },
     "execution_count": 19,
     "metadata": {},
     "output_type": "execute_result"
    }
   ],
   "source": [
    "df_danhgia.isnull().sum()"
   ]
  },
  {
   "cell_type": "code",
   "execution_count": 35,
   "metadata": {},
   "outputs": [
    {
     "data": {
      "text/plain": [
       "id                    0\n",
       "ma_khach_hang         0\n",
       "noi_dung_binh_luan    0\n",
       "ngay_binh_luan        0\n",
       "gio_binh_luan         0\n",
       "so_sao                0\n",
       "ma_san_pham           0\n",
       "dtype: int64"
      ]
     },
     "execution_count": 35,
     "metadata": {},
     "output_type": "execute_result"
    }
   ],
   "source": [
    "df_danhgia.isna().sum()"
   ]
  },
  {
   "cell_type": "code",
   "execution_count": 36,
   "metadata": {},
   "outputs": [
    {
     "data": {
      "text/plain": [
       "(20674, 7)"
      ]
     },
     "execution_count": 36,
     "metadata": {},
     "output_type": "execute_result"
    }
   ],
   "source": [
    "df_danhgia = df_danhgia.dropna()\n",
    "df_danhgia.shape"
   ]
  },
  {
   "cell_type": "code",
   "execution_count": 106,
   "metadata": {},
   "outputs": [],
   "source": [
    "df_danhgia.to_csv('Danh_gia1.csv',index=False)"
   ]
  },
  {
   "cell_type": "code",
   "execution_count": 113,
   "metadata": {},
   "outputs": [],
   "source": [
    "luotmua = df_danhgia[df_danhgia['ma_san_pham']==100100001].groupby('ma_san_pham',as_index=False)['ma_khach_hang'].count()"
   ]
  },
  {
   "cell_type": "code",
   "execution_count": 114,
   "metadata": {},
   "outputs": [
    {
     "data": {
      "text/html": [
       "<div>\n",
       "<style scoped>\n",
       "    .dataframe tbody tr th:only-of-type {\n",
       "        vertical-align: middle;\n",
       "    }\n",
       "\n",
       "    .dataframe tbody tr th {\n",
       "        vertical-align: top;\n",
       "    }\n",
       "\n",
       "    .dataframe thead th {\n",
       "        text-align: right;\n",
       "    }\n",
       "</style>\n",
       "<table border=\"1\" class=\"dataframe\">\n",
       "  <thead>\n",
       "    <tr style=\"text-align: right;\">\n",
       "      <th></th>\n",
       "      <th>ma_san_pham</th>\n",
       "      <th>ma_khach_hang</th>\n",
       "    </tr>\n",
       "  </thead>\n",
       "  <tbody>\n",
       "    <tr>\n",
       "      <th>0</th>\n",
       "      <td>100100001</td>\n",
       "      <td>8</td>\n",
       "    </tr>\n",
       "  </tbody>\n",
       "</table>\n",
       "</div>"
      ],
      "text/plain": [
       "   ma_san_pham  ma_khach_hang\n",
       "0    100100001              8"
      ]
     },
     "execution_count": 114,
     "metadata": {},
     "output_type": "execute_result"
    }
   ],
   "source": [
    "luotmua"
   ]
  },
  {
   "cell_type": "code",
   "execution_count": null,
   "metadata": {},
   "outputs": [
    {
     "data": {
      "text/html": [
       "<div>\n",
       "<style scoped>\n",
       "    .dataframe tbody tr th:only-of-type {\n",
       "        vertical-align: middle;\n",
       "    }\n",
       "\n",
       "    .dataframe tbody tr th {\n",
       "        vertical-align: top;\n",
       "    }\n",
       "\n",
       "    .dataframe thead th {\n",
       "        text-align: right;\n",
       "    }\n",
       "</style>\n",
       "<table border=\"1\" class=\"dataframe\">\n",
       "  <thead>\n",
       "    <tr style=\"text-align: right;\">\n",
       "      <th></th>\n",
       "      <th>id</th>\n",
       "      <th>ma_khach_hang</th>\n",
       "      <th>noi_dung_binh_luan</th>\n",
       "      <th>ngay_binh_luan</th>\n",
       "      <th>gio_binh_luan</th>\n",
       "      <th>so_sao</th>\n",
       "      <th>ma_san_pham</th>\n",
       "    </tr>\n",
       "  </thead>\n",
       "  <tbody>\n",
       "    <tr>\n",
       "      <th>4160</th>\n",
       "      <td>4161</td>\n",
       "      <td>1216</td>\n",
       "      <td>sáp dưỡng môi không mùi, chất khá dày, dưỡng m...</td>\n",
       "      <td>31/12/2021</td>\n",
       "      <td>13:33</td>\n",
       "      <td>5</td>\n",
       "      <td>100100001</td>\n",
       "    </tr>\n",
       "    <tr>\n",
       "      <th>4206</th>\n",
       "      <td>4207</td>\n",
       "      <td>1551</td>\n",
       "      <td>Dùng xong môi mềm mượt, hủ lớn sài đc lâu, sáp...</td>\n",
       "      <td>8/6/2022</td>\n",
       "      <td>12:34</td>\n",
       "      <td>5</td>\n",
       "      <td>100100001</td>\n",
       "    </tr>\n",
       "    <tr>\n",
       "      <th>7662</th>\n",
       "      <td>7663</td>\n",
       "      <td>1260</td>\n",
       "      <td>Hũ này dùng được lâu đa năng</td>\n",
       "      <td>1/10/2023</td>\n",
       "      <td>15:12</td>\n",
       "      <td>5</td>\n",
       "      <td>100100001</td>\n",
       "    </tr>\n",
       "    <tr>\n",
       "      <th>9718</th>\n",
       "      <td>9719</td>\n",
       "      <td>2084</td>\n",
       "      <td>đồ quốc dân đa công dụng ✨</td>\n",
       "      <td>10/4/2024</td>\n",
       "      <td>16:26</td>\n",
       "      <td>5</td>\n",
       "      <td>100100001</td>\n",
       "    </tr>\n",
       "    <tr>\n",
       "      <th>11507</th>\n",
       "      <td>11508</td>\n",
       "      <td>1932</td>\n",
       "      <td>Cực kỳ bực mình vì sản phẩm quá kém chất lượng.</td>\n",
       "      <td>9/5/2021</td>\n",
       "      <td>16:42</td>\n",
       "      <td>1</td>\n",
       "      <td>100100001</td>\n",
       "    </tr>\n",
       "    <tr>\n",
       "      <th>15794</th>\n",
       "      <td>15795</td>\n",
       "      <td>3954</td>\n",
       "      <td>5 sao</td>\n",
       "      <td>13/09/2023</td>\n",
       "      <td>12:32</td>\n",
       "      <td>5</td>\n",
       "      <td>100100001</td>\n",
       "    </tr>\n",
       "    <tr>\n",
       "      <th>17526</th>\n",
       "      <td>17527</td>\n",
       "      <td>3957</td>\n",
       "      <td>Dưỡng ẩm cũng ok mà hơi lâu khô</td>\n",
       "      <td>16/02/2023</td>\n",
       "      <td>23:07</td>\n",
       "      <td>4</td>\n",
       "      <td>100100001</td>\n",
       "    </tr>\n",
       "    <tr>\n",
       "      <th>19463</th>\n",
       "      <td>19464</td>\n",
       "      <td>3953</td>\n",
       "      <td>Khá nhiều, dùng oki nha, shipper thân thiện 10đ</td>\n",
       "      <td>6/10/2023</td>\n",
       "      <td>17:11</td>\n",
       "      <td>5</td>\n",
       "      <td>100100001</td>\n",
       "    </tr>\n",
       "  </tbody>\n",
       "</table>\n",
       "</div>"
      ],
      "text/plain": [
       "          id  ma_khach_hang  \\\n",
       "4160    4161           1216   \n",
       "4206    4207           1551   \n",
       "7662    7663           1260   \n",
       "9718    9719           2084   \n",
       "11507  11508           1932   \n",
       "15794  15795           3954   \n",
       "17526  17527           3957   \n",
       "19463  19464           3953   \n",
       "\n",
       "                                      noi_dung_binh_luan ngay_binh_luan  \\\n",
       "4160   sáp dưỡng môi không mùi, chất khá dày, dưỡng m...     31/12/2021   \n",
       "4206   Dùng xong môi mềm mượt, hủ lớn sài đc lâu, sáp...       8/6/2022   \n",
       "7662                        Hũ này dùng được lâu đa năng      1/10/2023   \n",
       "9718                          đồ quốc dân đa công dụng ✨      10/4/2024   \n",
       "11507    Cực kỳ bực mình vì sản phẩm quá kém chất lượng.       9/5/2021   \n",
       "15794                                              5 sao     13/09/2023   \n",
       "17526                    Dưỡng ẩm cũng ok mà hơi lâu khô     16/02/2023   \n",
       "19463    Khá nhiều, dùng oki nha, shipper thân thiện 10đ      6/10/2023   \n",
       "\n",
       "      gio_binh_luan  so_sao  ma_san_pham  \n",
       "4160          13:33       5    100100001  \n",
       "4206          12:34       5    100100001  \n",
       "7662          15:12       5    100100001  \n",
       "9718          16:26       5    100100001  \n",
       "11507         16:42       1    100100001  \n",
       "15794         12:32       5    100100001  \n",
       "17526         23:07       4    100100001  \n",
       "19463         17:11       5    100100001  "
      ]
     },
     "execution_count": 126,
     "metadata": {},
     "output_type": "execute_result"
    }
   ],
   "source": [
    "df_danhgia[df_danhgia['ma_san_pham']==100100001][['noi_dung_binh_luan','gio_binh_luan','ngay_binh_luan']].values[1]"
   ]
  },
  {
   "cell_type": "code",
   "execution_count": 132,
   "metadata": {},
   "outputs": [
    {
     "data": {
      "text/html": [
       "<div>\n",
       "<style scoped>\n",
       "    .dataframe tbody tr th:only-of-type {\n",
       "        vertical-align: middle;\n",
       "    }\n",
       "\n",
       "    .dataframe tbody tr th {\n",
       "        vertical-align: top;\n",
       "    }\n",
       "\n",
       "    .dataframe thead th {\n",
       "        text-align: right;\n",
       "    }\n",
       "</style>\n",
       "<table border=\"1\" class=\"dataframe\">\n",
       "  <thead>\n",
       "    <tr style=\"text-align: right;\">\n",
       "      <th></th>\n",
       "      <th>so_sao</th>\n",
       "      <th>tong_so_luong</th>\n",
       "    </tr>\n",
       "  </thead>\n",
       "  <tbody>\n",
       "    <tr>\n",
       "      <th>0</th>\n",
       "      <td>1</td>\n",
       "      <td>1</td>\n",
       "    </tr>\n",
       "    <tr>\n",
       "      <th>1</th>\n",
       "      <td>4</td>\n",
       "      <td>1</td>\n",
       "    </tr>\n",
       "    <tr>\n",
       "      <th>2</th>\n",
       "      <td>5</td>\n",
       "      <td>6</td>\n",
       "    </tr>\n",
       "  </tbody>\n",
       "</table>\n",
       "</div>"
      ],
      "text/plain": [
       "   so_sao  tong_so_luong\n",
       "0       1              1\n",
       "1       4              1\n",
       "2       5              6"
      ]
     },
     "execution_count": 132,
     "metadata": {},
     "output_type": "execute_result"
    }
   ],
   "source": [
    "paint = df_danhgia[df_danhgia['ma_san_pham']==100100001].groupby('so_sao',as_index=False)['ma_khach_hang'].count()\n",
    "paint.rename(columns={\"ma_khach_hang\": \"tong_so_luong\"}, inplace=True)\n",
    "paint"
   ]
  },
  {
   "cell_type": "code",
   "execution_count": null,
   "metadata": {},
   "outputs": [
    {
     "data": {
      "text/html": [
       "<div>\n",
       "<style scoped>\n",
       "    .dataframe tbody tr th:only-of-type {\n",
       "        vertical-align: middle;\n",
       "    }\n",
       "\n",
       "    .dataframe tbody tr th {\n",
       "        vertical-align: top;\n",
       "    }\n",
       "\n",
       "    .dataframe thead th {\n",
       "        text-align: right;\n",
       "    }\n",
       "</style>\n",
       "<table border=\"1\" class=\"dataframe\">\n",
       "  <thead>\n",
       "    <tr style=\"text-align: right;\">\n",
       "      <th></th>\n",
       "      <th>id</th>\n",
       "      <th>ma_khach_hang</th>\n",
       "      <th>noi_dung_binh_luan</th>\n",
       "      <th>ngay_binh_luan</th>\n",
       "      <th>gio_binh_luan</th>\n",
       "      <th>so_sao</th>\n",
       "      <th>ma_san_pham</th>\n",
       "    </tr>\n",
       "  </thead>\n",
       "  <tbody>\n",
       "    <tr>\n",
       "      <th>4160</th>\n",
       "      <td>4161</td>\n",
       "      <td>1216</td>\n",
       "      <td>sáp dưỡng môi không mùi, chất khá dày, dưỡng m...</td>\n",
       "      <td>31/12/2021</td>\n",
       "      <td>13:33</td>\n",
       "      <td>5</td>\n",
       "      <td>100100001</td>\n",
       "    </tr>\n",
       "    <tr>\n",
       "      <th>4206</th>\n",
       "      <td>4207</td>\n",
       "      <td>1551</td>\n",
       "      <td>Dùng xong môi mềm mượt, hủ lớn sài đc lâu, sáp...</td>\n",
       "      <td>8/6/2022</td>\n",
       "      <td>12:34</td>\n",
       "      <td>5</td>\n",
       "      <td>100100001</td>\n",
       "    </tr>\n",
       "    <tr>\n",
       "      <th>7662</th>\n",
       "      <td>7663</td>\n",
       "      <td>1260</td>\n",
       "      <td>Hũ này dùng được lâu đa năng</td>\n",
       "      <td>1/10/2023</td>\n",
       "      <td>15:12</td>\n",
       "      <td>5</td>\n",
       "      <td>100100001</td>\n",
       "    </tr>\n",
       "    <tr>\n",
       "      <th>9718</th>\n",
       "      <td>9719</td>\n",
       "      <td>2084</td>\n",
       "      <td>đồ quốc dân đa công dụng ✨</td>\n",
       "      <td>10/4/2024</td>\n",
       "      <td>16:26</td>\n",
       "      <td>5</td>\n",
       "      <td>100100001</td>\n",
       "    </tr>\n",
       "    <tr>\n",
       "      <th>11507</th>\n",
       "      <td>11508</td>\n",
       "      <td>1932</td>\n",
       "      <td>Cực kỳ bực mình vì sản phẩm quá kém chất lượng.</td>\n",
       "      <td>9/5/2021</td>\n",
       "      <td>16:42</td>\n",
       "      <td>1</td>\n",
       "      <td>100100001</td>\n",
       "    </tr>\n",
       "    <tr>\n",
       "      <th>15794</th>\n",
       "      <td>15795</td>\n",
       "      <td>3954</td>\n",
       "      <td>5 sao</td>\n",
       "      <td>13/09/2023</td>\n",
       "      <td>12:32</td>\n",
       "      <td>5</td>\n",
       "      <td>100100001</td>\n",
       "    </tr>\n",
       "    <tr>\n",
       "      <th>17526</th>\n",
       "      <td>17527</td>\n",
       "      <td>3957</td>\n",
       "      <td>Dưỡng ẩm cũng ok mà hơi lâu khô</td>\n",
       "      <td>16/02/2023</td>\n",
       "      <td>23:07</td>\n",
       "      <td>4</td>\n",
       "      <td>100100001</td>\n",
       "    </tr>\n",
       "    <tr>\n",
       "      <th>19463</th>\n",
       "      <td>19464</td>\n",
       "      <td>3953</td>\n",
       "      <td>Khá nhiều, dùng oki nha, shipper thân thiện 10đ</td>\n",
       "      <td>6/10/2023</td>\n",
       "      <td>17:11</td>\n",
       "      <td>5</td>\n",
       "      <td>100100001</td>\n",
       "    </tr>\n",
       "  </tbody>\n",
       "</table>\n",
       "</div>"
      ],
      "text/plain": [
       "          id  ma_khach_hang  \\\n",
       "4160    4161           1216   \n",
       "4206    4207           1551   \n",
       "7662    7663           1260   \n",
       "9718    9719           2084   \n",
       "11507  11508           1932   \n",
       "15794  15795           3954   \n",
       "17526  17527           3957   \n",
       "19463  19464           3953   \n",
       "\n",
       "                                      noi_dung_binh_luan ngay_binh_luan  \\\n",
       "4160   sáp dưỡng môi không mùi, chất khá dày, dưỡng m...     31/12/2021   \n",
       "4206   Dùng xong môi mềm mượt, hủ lớn sài đc lâu, sáp...       8/6/2022   \n",
       "7662                        Hũ này dùng được lâu đa năng      1/10/2023   \n",
       "9718                          đồ quốc dân đa công dụng ✨      10/4/2024   \n",
       "11507    Cực kỳ bực mình vì sản phẩm quá kém chất lượng.       9/5/2021   \n",
       "15794                                              5 sao     13/09/2023   \n",
       "17526                    Dưỡng ẩm cũng ok mà hơi lâu khô     16/02/2023   \n",
       "19463    Khá nhiều, dùng oki nha, shipper thân thiện 10đ      6/10/2023   \n",
       "\n",
       "      gio_binh_luan  so_sao  ma_san_pham  \n",
       "4160          13:33       5    100100001  \n",
       "4206          12:34       5    100100001  \n",
       "7662          15:12       5    100100001  \n",
       "9718          16:26       5    100100001  \n",
       "11507         16:42       1    100100001  \n",
       "15794         12:32       5    100100001  \n",
       "17526         23:07       4    100100001  \n",
       "19463         17:11       5    100100001  "
      ]
     },
     "execution_count": 130,
     "metadata": {},
     "output_type": "execute_result"
    }
   ],
   "source": [
    "df_danhgia[df_danhgia['ma_san_pham']==100100001]"
   ]
  },
  {
   "cell_type": "code",
   "execution_count": 20,
   "metadata": {},
   "outputs": [
    {
     "data": {
      "text/plain": [
       "ma_khach_hang\n",
       "4708    1\n",
       "4719    1\n",
       "4722    1\n",
       "4734    1\n",
       "4735    1\n",
       "Name: ma_san_pham, dtype: int64"
      ]
     },
     "execution_count": 20,
     "metadata": {},
     "output_type": "execute_result"
    }
   ],
   "source": [
    "df_danhgia.groupby('ma_khach_hang')['ma_san_pham'].count().tail()"
   ]
  },
  {
   "cell_type": "markdown",
   "metadata": {},
   "source": [
    "### tạo 2 cột username và password cho file Customer.csv"
   ]
  },
  {
   "cell_type": "code",
   "execution_count": 57,
   "metadata": {},
   "outputs": [
    {
     "data": {
      "text/plain": [
       "(4736, 3)"
      ]
     },
     "execution_count": 57,
     "metadata": {},
     "output_type": "execute_result"
    }
   ],
   "source": [
    "df_customer = pd.read_csv('data/Customer.csv')\n",
    "df_customer.shape"
   ]
  },
  {
   "cell_type": "code",
   "execution_count": 58,
   "metadata": {},
   "outputs": [],
   "source": [
    "df_customer['username'] = None"
   ]
  },
  {
   "cell_type": "code",
   "execution_count": 60,
   "metadata": {},
   "outputs": [],
   "source": [
    "df_customer['password'] = None"
   ]
  },
  {
   "cell_type": "code",
   "execution_count": 61,
   "metadata": {},
   "outputs": [
    {
     "data": {
      "text/plain": [
       "(4736, 5)"
      ]
     },
     "execution_count": 61,
     "metadata": {},
     "output_type": "execute_result"
    }
   ],
   "source": [
    "df_customer.shape"
   ]
  },
  {
   "cell_type": "code",
   "execution_count": 63,
   "metadata": {},
   "outputs": [
    {
     "data": {
      "text/html": [
       "<div>\n",
       "<style scoped>\n",
       "    .dataframe tbody tr th:only-of-type {\n",
       "        vertical-align: middle;\n",
       "    }\n",
       "\n",
       "    .dataframe tbody tr th {\n",
       "        vertical-align: top;\n",
       "    }\n",
       "\n",
       "    .dataframe thead th {\n",
       "        text-align: right;\n",
       "    }\n",
       "</style>\n",
       "<table border=\"1\" class=\"dataframe\">\n",
       "  <thead>\n",
       "    <tr style=\"text-align: right;\">\n",
       "      <th></th>\n",
       "      <th>Unnamed: 0</th>\n",
       "      <th>ma_khach_hang</th>\n",
       "      <th>ho_ten</th>\n",
       "      <th>username</th>\n",
       "      <th>password</th>\n",
       "    </tr>\n",
       "  </thead>\n",
       "  <tbody>\n",
       "    <tr>\n",
       "      <th>0</th>\n",
       "      <td>0</td>\n",
       "      <td>1</td>\n",
       "      <td>Hoàng Anh Trần</td>\n",
       "      <td>None</td>\n",
       "      <td>None</td>\n",
       "    </tr>\n",
       "    <tr>\n",
       "      <th>1</th>\n",
       "      <td>1</td>\n",
       "      <td>2</td>\n",
       "      <td>Nguyễn Lương Nhi Phương</td>\n",
       "      <td>None</td>\n",
       "      <td>None</td>\n",
       "    </tr>\n",
       "    <tr>\n",
       "      <th>2</th>\n",
       "      <td>2</td>\n",
       "      <td>3</td>\n",
       "      <td>Nguyễn Thu Trang</td>\n",
       "      <td>None</td>\n",
       "      <td>None</td>\n",
       "    </tr>\n",
       "  </tbody>\n",
       "</table>\n",
       "</div>"
      ],
      "text/plain": [
       "   Unnamed: 0  ma_khach_hang                   ho_ten username password\n",
       "0           0              1           Hoàng Anh Trần     None     None\n",
       "1           1              2  Nguyễn Lương Nhi Phương     None     None\n",
       "2           2              3         Nguyễn Thu Trang     None     None"
      ]
     },
     "execution_count": 63,
     "metadata": {},
     "output_type": "execute_result"
    }
   ],
   "source": [
    "df_customer.head(3)"
   ]
  },
  {
   "cell_type": "code",
   "execution_count": 64,
   "metadata": {},
   "outputs": [],
   "source": [
    "df_customer=df_customer.drop(columns='Unnamed: 0')"
   ]
  },
  {
   "cell_type": "code",
   "execution_count": 65,
   "metadata": {},
   "outputs": [],
   "source": [
    "df_customer.to_csv('Customer1.csv',index=False)"
   ]
  },
  {
   "cell_type": "code",
   "execution_count": 66,
   "metadata": {},
   "outputs": [
    {
     "data": {
      "text/html": [
       "<div>\n",
       "<style scoped>\n",
       "    .dataframe tbody tr th:only-of-type {\n",
       "        vertical-align: middle;\n",
       "    }\n",
       "\n",
       "    .dataframe tbody tr th {\n",
       "        vertical-align: top;\n",
       "    }\n",
       "\n",
       "    .dataframe thead th {\n",
       "        text-align: right;\n",
       "    }\n",
       "</style>\n",
       "<table border=\"1\" class=\"dataframe\">\n",
       "  <thead>\n",
       "    <tr style=\"text-align: right;\">\n",
       "      <th></th>\n",
       "      <th>ma_khach_hang</th>\n",
       "      <th>ho_ten</th>\n",
       "      <th>username</th>\n",
       "      <th>password</th>\n",
       "    </tr>\n",
       "  </thead>\n",
       "  <tbody>\n",
       "    <tr>\n",
       "      <th>0</th>\n",
       "      <td>0</td>\n",
       "      <td>Trần Đăng Diệp</td>\n",
       "      <td>user_new</td>\n",
       "      <td>password0</td>\n",
       "    </tr>\n",
       "    <tr>\n",
       "      <th>1</th>\n",
       "      <td>1</td>\n",
       "      <td>Hoàng Anh Trần</td>\n",
       "      <td>user1</td>\n",
       "      <td>password1</td>\n",
       "    </tr>\n",
       "    <tr>\n",
       "      <th>2</th>\n",
       "      <td>2</td>\n",
       "      <td>Nguyễn Lương Nhi Phương</td>\n",
       "      <td>user2</td>\n",
       "      <td>password2</td>\n",
       "    </tr>\n",
       "    <tr>\n",
       "      <th>3</th>\n",
       "      <td>3</td>\n",
       "      <td>Nguyễn Thu Trang</td>\n",
       "      <td>user3</td>\n",
       "      <td>password3</td>\n",
       "    </tr>\n",
       "  </tbody>\n",
       "</table>\n",
       "</div>"
      ],
      "text/plain": [
       "   ma_khach_hang                   ho_ten  username   password\n",
       "0              0           Trần Đăng Diệp  user_new  password0\n",
       "1              1           Hoàng Anh Trần     user1  password1\n",
       "2              2  Nguyễn Lương Nhi Phương     user2  password2\n",
       "3              3         Nguyễn Thu Trang     user3  password3"
      ]
     },
     "execution_count": 66,
     "metadata": {},
     "output_type": "execute_result"
    }
   ],
   "source": [
    "df_test = pd.read_csv('Customer1.csv')\n",
    "df_test.head(4)"
   ]
  },
  {
   "cell_type": "code",
   "execution_count": 84,
   "metadata": {},
   "outputs": [
    {
     "data": {
      "text/html": [
       "<div>\n",
       "<style scoped>\n",
       "    .dataframe tbody tr th:only-of-type {\n",
       "        vertical-align: middle;\n",
       "    }\n",
       "\n",
       "    .dataframe tbody tr th {\n",
       "        vertical-align: top;\n",
       "    }\n",
       "\n",
       "    .dataframe thead th {\n",
       "        text-align: right;\n",
       "    }\n",
       "</style>\n",
       "<table border=\"1\" class=\"dataframe\">\n",
       "  <thead>\n",
       "    <tr style=\"text-align: right;\">\n",
       "      <th></th>\n",
       "      <th>ma_san_pham</th>\n",
       "      <th>so_sao</th>\n",
       "    </tr>\n",
       "  </thead>\n",
       "  <tbody>\n",
       "    <tr>\n",
       "      <th>398</th>\n",
       "      <td>422205162</td>\n",
       "      <td>252</td>\n",
       "    </tr>\n",
       "    <tr>\n",
       "      <th>235</th>\n",
       "      <td>308500013</td>\n",
       "      <td>255</td>\n",
       "    </tr>\n",
       "    <tr>\n",
       "      <th>496</th>\n",
       "      <td>422208807</td>\n",
       "      <td>273</td>\n",
       "    </tr>\n",
       "    <tr>\n",
       "      <th>439</th>\n",
       "      <td>422206648</td>\n",
       "      <td>275</td>\n",
       "    </tr>\n",
       "    <tr>\n",
       "      <th>88</th>\n",
       "      <td>205100136</td>\n",
       "      <td>276</td>\n",
       "    </tr>\n",
       "    <tr>\n",
       "      <th>572</th>\n",
       "      <td>422211447</td>\n",
       "      <td>279</td>\n",
       "    </tr>\n",
       "    <tr>\n",
       "      <th>571</th>\n",
       "      <td>422211446</td>\n",
       "      <td>279</td>\n",
       "    </tr>\n",
       "    <tr>\n",
       "      <th>90</th>\n",
       "      <td>205100146</td>\n",
       "      <td>279</td>\n",
       "    </tr>\n",
       "    <tr>\n",
       "      <th>89</th>\n",
       "      <td>205100137</td>\n",
       "      <td>280</td>\n",
       "    </tr>\n",
       "    <tr>\n",
       "      <th>376</th>\n",
       "      <td>422204259</td>\n",
       "      <td>288</td>\n",
       "    </tr>\n",
       "  </tbody>\n",
       "</table>\n",
       "</div>"
      ],
      "text/plain": [
       "     ma_san_pham  so_sao\n",
       "398    422205162     252\n",
       "235    308500013     255\n",
       "496    422208807     273\n",
       "439    422206648     275\n",
       "88     205100136     276\n",
       "572    422211447     279\n",
       "571    422211446     279\n",
       "90     205100146     279\n",
       "89     205100137     280\n",
       "376    422204259     288"
      ]
     },
     "execution_count": 84,
     "metadata": {},
     "output_type": "execute_result"
    }
   ],
   "source": [
    "df_top10 = df_danhgia.groupby('ma_san_pham',as_index=False)['so_sao'].count().sort_values(by='so_sao').tail(10)\n",
    "df_top10"
   ]
  },
  {
   "cell_type": "code",
   "execution_count": 86,
   "metadata": {},
   "outputs": [],
   "source": [
    "df_dtb = df_merged[['ma_san_pham','diem_trung_binh']]"
   ]
  },
  {
   "cell_type": "code",
   "execution_count": 87,
   "metadata": {},
   "outputs": [
    {
     "data": {
      "text/html": [
       "<div>\n",
       "<style scoped>\n",
       "    .dataframe tbody tr th:only-of-type {\n",
       "        vertical-align: middle;\n",
       "    }\n",
       "\n",
       "    .dataframe tbody tr th {\n",
       "        vertical-align: top;\n",
       "    }\n",
       "\n",
       "    .dataframe thead th {\n",
       "        text-align: right;\n",
       "    }\n",
       "</style>\n",
       "<table border=\"1\" class=\"dataframe\">\n",
       "  <thead>\n",
       "    <tr style=\"text-align: right;\">\n",
       "      <th></th>\n",
       "      <th>ma_san_pham</th>\n",
       "      <th>so_sao</th>\n",
       "      <th>diem_trung_binh</th>\n",
       "    </tr>\n",
       "  </thead>\n",
       "  <tbody>\n",
       "    <tr>\n",
       "      <th>0</th>\n",
       "      <td>422205162</td>\n",
       "      <td>252</td>\n",
       "      <td>4.9</td>\n",
       "    </tr>\n",
       "    <tr>\n",
       "      <th>1</th>\n",
       "      <td>308500013</td>\n",
       "      <td>255</td>\n",
       "      <td>4.9</td>\n",
       "    </tr>\n",
       "    <tr>\n",
       "      <th>2</th>\n",
       "      <td>422208807</td>\n",
       "      <td>273</td>\n",
       "      <td>4.7</td>\n",
       "    </tr>\n",
       "    <tr>\n",
       "      <th>3</th>\n",
       "      <td>422206648</td>\n",
       "      <td>275</td>\n",
       "      <td>4.7</td>\n",
       "    </tr>\n",
       "    <tr>\n",
       "      <th>4</th>\n",
       "      <td>205100136</td>\n",
       "      <td>276</td>\n",
       "      <td>4.7</td>\n",
       "    </tr>\n",
       "    <tr>\n",
       "      <th>5</th>\n",
       "      <td>422211447</td>\n",
       "      <td>279</td>\n",
       "      <td>4.7</td>\n",
       "    </tr>\n",
       "    <tr>\n",
       "      <th>6</th>\n",
       "      <td>422211446</td>\n",
       "      <td>279</td>\n",
       "      <td>4.7</td>\n",
       "    </tr>\n",
       "    <tr>\n",
       "      <th>7</th>\n",
       "      <td>205100146</td>\n",
       "      <td>279</td>\n",
       "      <td>4.7</td>\n",
       "    </tr>\n",
       "    <tr>\n",
       "      <th>8</th>\n",
       "      <td>205100137</td>\n",
       "      <td>280</td>\n",
       "      <td>4.7</td>\n",
       "    </tr>\n",
       "    <tr>\n",
       "      <th>9</th>\n",
       "      <td>422204259</td>\n",
       "      <td>288</td>\n",
       "      <td>4.7</td>\n",
       "    </tr>\n",
       "  </tbody>\n",
       "</table>\n",
       "</div>"
      ],
      "text/plain": [
       "   ma_san_pham  so_sao  diem_trung_binh\n",
       "0    422205162     252              4.9\n",
       "1    308500013     255              4.9\n",
       "2    422208807     273              4.7\n",
       "3    422206648     275              4.7\n",
       "4    205100136     276              4.7\n",
       "5    422211447     279              4.7\n",
       "6    422211446     279              4.7\n",
       "7    205100146     279              4.7\n",
       "8    205100137     280              4.7\n",
       "9    422204259     288              4.7"
      ]
     },
     "execution_count": 87,
     "metadata": {},
     "output_type": "execute_result"
    }
   ],
   "source": [
    "top10_merged = pd.merge(df_top10, df_dtb, on=\"ma_san_pham\",how=\"left\")\n",
    "top10_merged"
   ]
  },
  {
   "cell_type": "code",
   "execution_count": 7,
   "metadata": {},
   "outputs": [
    {
     "data": {
      "text/plain": [
       "(1219, 8)"
      ]
     },
     "execution_count": 7,
     "metadata": {},
     "output_type": "execute_result"
    }
   ],
   "source": [
    "df1 = pd.read_csv(\"data/Product.csv\")\n",
    "df1.shape"
   ]
  },
  {
   "cell_type": "code",
   "execution_count": 9,
   "metadata": {},
   "outputs": [
    {
     "data": {
      "text/plain": [
       "33"
      ]
     },
     "execution_count": 9,
     "metadata": {},
     "output_type": "execute_result"
    }
   ],
   "source": [
    "df1.duplicated().sum()"
   ]
  },
  {
   "cell_type": "code",
   "execution_count": 10,
   "metadata": {},
   "outputs": [
    {
     "data": {
      "text/plain": [
       "(1186, 8)"
      ]
     },
     "execution_count": 10,
     "metadata": {},
     "output_type": "execute_result"
    }
   ],
   "source": [
    "df1 = df1.drop_duplicates()\n",
    "df1.shape"
   ]
  },
  {
   "cell_type": "code",
   "execution_count": 12,
   "metadata": {},
   "outputs": [],
   "source": [
    "df1['phan_loai'] = df1['phan_loai'].fillna('None')"
   ]
  },
  {
   "cell_type": "code",
   "execution_count": 13,
   "metadata": {},
   "outputs": [],
   "source": [
    "df1.to_csv(\"Product.csv\",index=False)"
   ]
  },
  {
   "cell_type": "code",
   "execution_count": 14,
   "metadata": {},
   "outputs": [],
   "source": [
    "from surprise import Reader, Dataset, SVD, SVDpp, NMF, SlopeOne, KNNBasic, KNNBaseline, KNNWithMeans, KNNWithZScore, CoClustering, BaselineOnly\n",
    "from surprise.model_selection.validation import cross_validate\n",
    "import pickle"
   ]
  },
  {
   "cell_type": "code",
   "execution_count": 15,
   "metadata": {},
   "outputs": [],
   "source": [
    "with open('model/surprise_knn_model.pkl', 'rb') as f:\n",
    "    algorithm_KNN = pickle.load(f)"
   ]
  },
  {
   "cell_type": "code",
   "execution_count": 16,
   "metadata": {},
   "outputs": [],
   "source": [
    "def recommended_top5(userId,df_sub,algorithm_KNN):\n",
    "  df_score = df_sub[[\"ma_san_pham\",\"ten_san_pham\"]]\n",
    "\n",
    "#   #loại bỏ những sản phẩm đã được mua\n",
    "#   df_score = df_score[~df_score['ma_san_pham'].isin(df_select.index)]\n",
    "#   df_score.reset_index(drop=True,inplace=True)\n",
    "\n",
    "  #tạo cột và dự đoán các giá trị\n",
    "  df_score['EstimateScore'] = df_score['ma_san_pham'].apply(lambda x: algorithm_KNN.predict(userId, x).est) # est: get EstimateScore\n",
    "\n",
    "  #sắp xếp lại các giá trị theo thứ tự giảm dần\n",
    "  df_score = df_score.sort_values(by=['EstimateScore'], ascending=False)\n",
    "\n",
    "  #xóa dữ liệu trùng\n",
    "  df_score = df_score.drop_duplicates()\n",
    "\n",
    "  #lọc những dòng có EstimateScore >= 4\n",
    "  df_score = df_score[df_score['EstimateScore'] >= 4].head()\n",
    "  return df_score"
   ]
  },
  {
   "cell_type": "code",
   "execution_count": 17,
   "metadata": {},
   "outputs": [
    {
     "name": "stderr",
     "output_type": "stream",
     "text": [
      "C:\\Users\\diep5\\AppData\\Local\\Temp\\ipykernel_19856\\2594256131.py:9: SettingWithCopyWarning: \n",
      "A value is trying to be set on a copy of a slice from a DataFrame.\n",
      "Try using .loc[row_indexer,col_indexer] = value instead\n",
      "\n",
      "See the caveats in the documentation: https://pandas.pydata.org/pandas-docs/stable/user_guide/indexing.html#returning-a-view-versus-a-copy\n",
      "  df_score['EstimateScore'] = df_score['ma_san_pham'].apply(lambda x: algorithm_KNN.predict(userId, x).est) # est: get EstimateScore\n"
     ]
    },
    {
     "data": {
      "text/html": [
       "<div>\n",
       "<style scoped>\n",
       "    .dataframe tbody tr th:only-of-type {\n",
       "        vertical-align: middle;\n",
       "    }\n",
       "\n",
       "    .dataframe tbody tr th {\n",
       "        vertical-align: top;\n",
       "    }\n",
       "\n",
       "    .dataframe thead th {\n",
       "        text-align: right;\n",
       "    }\n",
       "</style>\n",
       "<table border=\"1\" class=\"dataframe\">\n",
       "  <thead>\n",
       "    <tr style=\"text-align: right;\">\n",
       "      <th></th>\n",
       "      <th>ma_san_pham</th>\n",
       "      <th>ten_san_pham</th>\n",
       "      <th>EstimateScore</th>\n",
       "    </tr>\n",
       "  </thead>\n",
       "  <tbody>\n",
       "    <tr>\n",
       "      <th>466</th>\n",
       "      <td>422203146</td>\n",
       "      <td>Sữa Chống Nắng Sunplay Hiệu Chỉnh Sắc Da 50g (...</td>\n",
       "      <td>5.0</td>\n",
       "    </tr>\n",
       "    <tr>\n",
       "      <th>574</th>\n",
       "      <td>308500018</td>\n",
       "      <td>Mặt Nạ Naruko Hoa Thủy Tiên Hỗ Trợ Phục Hồi Da...</td>\n",
       "      <td>5.0</td>\n",
       "    </tr>\n",
       "    <tr>\n",
       "      <th>230</th>\n",
       "      <td>422203807</td>\n",
       "      <td>Combo 2 Bông Tẩy Trang Ipek 150 Miếng</td>\n",
       "      <td>5.0</td>\n",
       "    </tr>\n",
       "    <tr>\n",
       "      <th>566</th>\n",
       "      <td>422216594</td>\n",
       "      <td>Combo 2 Nước Tẩy Trang Bioderma Dành Cho Da Dầ...</td>\n",
       "      <td>5.0</td>\n",
       "    </tr>\n",
       "    <tr>\n",
       "      <th>142</th>\n",
       "      <td>249500013</td>\n",
       "      <td>Sữa Chống Nắng Sunplay Skin Aqua Dưỡng Da Sáng...</td>\n",
       "      <td>5.0</td>\n",
       "    </tr>\n",
       "  </tbody>\n",
       "</table>\n",
       "</div>"
      ],
      "text/plain": [
       "     ma_san_pham                                       ten_san_pham  \\\n",
       "466    422203146  Sữa Chống Nắng Sunplay Hiệu Chỉnh Sắc Da 50g (...   \n",
       "574    308500018  Mặt Nạ Naruko Hoa Thủy Tiên Hỗ Trợ Phục Hồi Da...   \n",
       "230    422203807              Combo 2 Bông Tẩy Trang Ipek 150 Miếng   \n",
       "566    422216594  Combo 2 Nước Tẩy Trang Bioderma Dành Cho Da Dầ...   \n",
       "142    249500013  Sữa Chống Nắng Sunplay Skin Aqua Dưỡng Da Sáng...   \n",
       "\n",
       "     EstimateScore  \n",
       "466            5.0  \n",
       "574            5.0  \n",
       "230            5.0  \n",
       "566            5.0  \n",
       "142            5.0  "
      ]
     },
     "execution_count": 17,
     "metadata": {},
     "output_type": "execute_result"
    }
   ],
   "source": [
    "recommended_top5(443,df1,algorithm_KNN)"
   ]
  }
 ],
 "metadata": {
  "kernelspec": {
   "display_name": "Python 3",
   "language": "python",
   "name": "python3"
  },
  "language_info": {
   "codemirror_mode": {
    "name": "ipython",
    "version": 3
   },
   "file_extension": ".py",
   "mimetype": "text/x-python",
   "name": "python",
   "nbconvert_exporter": "python",
   "pygments_lexer": "ipython3",
   "version": "3.10.10"
  }
 },
 "nbformat": 4,
 "nbformat_minor": 2
}
