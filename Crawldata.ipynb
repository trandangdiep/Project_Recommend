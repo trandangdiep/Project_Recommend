{
 "cells": [
  {
   "cell_type": "code",
   "execution_count": 1,
   "metadata": {},
   "outputs": [],
   "source": [
    "from selenium import webdriver\n",
    "from selenium.webdriver.common.by import By\n",
    "import time\n",
    "import os\n",
    "import pandas as pd\n",
    "# from mylibs import *"
   ]
  },
  {
   "cell_type": "code",
   "execution_count": 26,
   "metadata": {},
   "outputs": [],
   "source": [
    "list_msp =[]\n",
    "list_imgs = []\n",
    "list_dataimg=[]"
   ]
  },
  {
   "cell_type": "markdown",
   "metadata": {},
   "source": [
    "## Crawl Kem chống nắng "
   ]
  },
  {
   "cell_type": "code",
   "execution_count": null,
   "metadata": {},
   "outputs": [
    {
     "name": "stdout",
     "output_type": "stream",
     "text": [
      "40\n",
      "40\n",
      "40\n",
      "80\n",
      "80\n",
      "80\n"
     ]
    }
   ],
   "source": [
    "# #Lấy danh sách nhiều trang\n",
    "driver = webdriver.Chrome()\n",
    "driver.maximize_window()\n",
    "\n",
    "\n",
    "for page in range(1,10):\n",
    "    url = f'https://hasaki.vn/danh-muc/chong-nang-da-mat-c11.html?p={page}'\n",
    "    driver.get(url)\n",
    "    # cho 1 khoảng thời gian loaddata\n",
    "    time.sleep(5)\n",
    "\n",
    "    #Xác định vùng chứa\n",
    "    tag_products_container = driver.find_element(by=By.CLASS_NAME,value='ProductGrid__grid')\n",
    "    # lấy mã sản phẩm\n",
    "    tag_product_links = tag_products_container.find_elements(by=By.CSS_SELECTOR,value='a.block_info_item_sp')\n",
    "    for tag_product_link in tag_product_links:\n",
    "        list_msp.append(tag_product_link.get_attribute('data-id'))\n",
    "    # lấy link ảnh\n",
    "    tag_img_links = tag_products_container.find_elements(by=By.CSS_SELECTOR,value='img.img_thumb')\n",
    "    for tag_img_link in tag_img_links:\n",
    "        list_imgs.append(tag_img_link.get_attribute('src'))\n",
    "        list_dataimg.append(tag_img_link.get_attribute('data-src'))\n",
    "    \n",
    "\n",
    "    print(len(list_msp))\n",
    "    print(len(list_imgs))\n",
    "    print(len(list_dataimg))\n",
    "\n",
    "\n",
    "driver.close()"
   ]
  },
  {
   "cell_type": "markdown",
   "metadata": {},
   "source": [
    "## Crawl Tẩy trang"
   ]
  },
  {
   "cell_type": "code",
   "execution_count": 4,
   "metadata": {},
   "outputs": [
    {
     "name": "stdout",
     "output_type": "stream",
     "text": [
      "370\n",
      "370\n",
      "370\n",
      "404\n",
      "404\n",
      "404\n",
      "438\n",
      "438\n",
      "438\n",
      "472\n",
      "472\n",
      "472\n",
      "506\n",
      "506\n",
      "506\n",
      "540\n",
      "540\n",
      "540\n",
      "574\n",
      "574\n",
      "574\n",
      "582\n",
      "582\n",
      "582\n"
     ]
    }
   ],
   "source": [
    "\n",
    "# #Lấy danh sách nhiều trang\n",
    "driver = webdriver.Chrome()\n",
    "driver.maximize_window()\n",
    "\n",
    "\n",
    "for page in range(1,9):\n",
    "    url = f'https://hasaki.vn/danh-muc/tay-trang-mat-c48.html?p={page}'\n",
    "    driver.get(url)\n",
    "\n",
    "    # cho 1 khoảng thời gian loaddata\n",
    "    time.sleep(5)\n",
    "\n",
    "    #Xác định vùng chứa\n",
    "    tag_products_container = driver.find_element(by=By.CLASS_NAME,value='ProductGrid__grid')\n",
    "    # lấy mã sản phẩm\n",
    "    tag_product_links = tag_products_container.find_elements(by=By.CSS_SELECTOR,value='a.block_info_item_sp')\n",
    "    for tag_product_link in tag_product_links:\n",
    "        list_msp.append(tag_product_link.get_attribute('data-id'))\n",
    " \n",
    "    # lấy link ảnh\n",
    "    tag_img_links = tag_products_container.find_elements(by=By.CSS_SELECTOR,value='img.img_thumb')\n",
    "    for tag_img_link in tag_img_links:\n",
    "        list_imgs.append(tag_img_link.get_attribute('src'))\n",
    "        list_dataimg.append(tag_img_link.get_attribute('data-src'))\n",
    "    \n",
    "    print(len(list_msp))\n",
    "    print(len(list_imgs))\n",
    "    print(len(list_dataimg))\n",
    "    \n",
    "driver.close()"
   ]
  },
  {
   "cell_type": "markdown",
   "metadata": {},
   "source": [
    "## Crawl Toner"
   ]
  },
  {
   "cell_type": "code",
   "execution_count": 5,
   "metadata": {},
   "outputs": [
    {
     "name": "stdout",
     "output_type": "stream",
     "text": [
      "622\n",
      "622\n",
      "622\n",
      "662\n",
      "662\n",
      "662\n",
      "702\n",
      "702\n",
      "702\n",
      "706\n",
      "706\n",
      "706\n"
     ]
    }
   ],
   "source": [
    "\n",
    "# #Lấy danh sách nhiều trang\n",
    "driver = webdriver.Chrome()\n",
    "driver.maximize_window()\n",
    "\n",
    "\n",
    "for page in range(1,5):\n",
    "    url = f'https://hasaki.vn/danh-muc/toner-c1857.html?p={page}'\n",
    "    driver.get(url)\n",
    "\n",
    "    # cho 1 khoảng thời gian loaddata\n",
    "    time.sleep(5)\n",
    "\n",
    "    #Xác định vùng chứa\n",
    "    tag_products_container = driver.find_element(by=By.CLASS_NAME,value='ProductGrid__grid')\n",
    "    # lấy mã sản phẩm\n",
    "    tag_product_links = tag_products_container.find_elements(by=By.CSS_SELECTOR,value='a.block_info_item_sp')\n",
    "    for tag_product_link in tag_product_links:\n",
    "        list_msp.append(tag_product_link.get_attribute('data-id'))\n",
    " \n",
    "    # lấy link ảnh\n",
    "    tag_img_links = tag_products_container.find_elements(by=By.CSS_SELECTOR,value='img.img_thumb')\n",
    "    for tag_img_link in tag_img_links:\n",
    "        list_imgs.append(tag_img_link.get_attribute('src'))\n",
    "        list_dataimg.append(tag_img_link.get_attribute('data-src'))\n",
    "    \n",
    "    print(len(list_msp))\n",
    "    print(len(list_imgs))\n",
    "    print(len(list_dataimg))\n",
    "    \n",
    "driver.close()\n",
    "    \n",
    "    "
   ]
  },
  {
   "cell_type": "markdown",
   "metadata": {},
   "source": [
    "## Crawl Sữa rửa mặt"
   ]
  },
  {
   "cell_type": "code",
   "execution_count": 6,
   "metadata": {},
   "outputs": [
    {
     "name": "stdout",
     "output_type": "stream",
     "text": [
      "742\n",
      "742\n",
      "742\n",
      "778\n",
      "778\n",
      "778\n",
      "814\n",
      "814\n",
      "814\n",
      "850\n",
      "850\n",
      "850\n",
      "886\n",
      "886\n",
      "886\n",
      "922\n",
      "922\n",
      "922\n",
      "958\n",
      "958\n",
      "958\n",
      "994\n",
      "994\n",
      "994\n",
      "1030\n",
      "1030\n",
      "1030\n",
      "1066\n",
      "1066\n",
      "1066\n",
      "1102\n",
      "1102\n",
      "1102\n",
      "1118\n",
      "1118\n",
      "1118\n"
     ]
    }
   ],
   "source": [
    "\n",
    "# #Lấy danh sách nhiều trang\n",
    "driver = webdriver.Chrome()\n",
    "driver.maximize_window()\n",
    "\n",
    "\n",
    "for page in range(1,13):\n",
    "    url = f'https://hasaki.vn/danh-muc/sua-rua-mat-c19.html?p={page}'\n",
    "    driver.get(url)\n",
    "\n",
    "    # cho 1 khoảng thời gian loaddata\n",
    "    time.sleep(5)\n",
    "\n",
    "    #Xác định vùng chứa\n",
    "    tag_products_container = driver.find_element(by=By.CLASS_NAME,value='ProductGrid__grid')\n",
    "    # lấy mã sản phẩm\n",
    "    tag_product_links = tag_products_container.find_elements(by=By.CSS_SELECTOR,value='a.block_info_item_sp')\n",
    "    for tag_product_link in tag_product_links:\n",
    "        list_msp.append(tag_product_link.get_attribute('data-id'))\n",
    " \n",
    "    # lấy link ảnh\n",
    "    tag_img_links = tag_products_container.find_elements(by=By.CSS_SELECTOR,value='img.img_thumb')\n",
    "    for tag_img_link in tag_img_links:\n",
    "        list_imgs.append(tag_img_link.get_attribute('src'))\n",
    "        list_dataimg.append(tag_img_link.get_attribute('data-src'))\n",
    "    \n",
    "    print(len(list_msp))\n",
    "    print(len(list_imgs))\n",
    "    print(len(list_dataimg))\n",
    "    \n",
    "driver.close()"
   ]
  },
  {
   "cell_type": "markdown",
   "metadata": {},
   "source": [
    "## Crawl Tẩy tế bào chết"
   ]
  },
  {
   "cell_type": "code",
   "execution_count": 7,
   "metadata": {},
   "outputs": [
    {
     "name": "stdout",
     "output_type": "stream",
     "text": [
      "1158\n",
      "1158\n",
      "1158\n",
      "1195\n",
      "1195\n",
      "1195\n"
     ]
    }
   ],
   "source": [
    "\n",
    "# #Lấy danh sách nhiều trang\n",
    "driver = webdriver.Chrome()\n",
    "driver.maximize_window()\n",
    "\n",
    "\n",
    "for page in range(1,3):\n",
    "    url = f'https://hasaki.vn/danh-muc/tay-te-bao-chet-da-mat-c35.html?p={page}'\n",
    "    driver.get(url)\n",
    "\n",
    "    # cho 1 khoảng thời gian loaddata\n",
    "    time.sleep(5)\n",
    "\n",
    "    #Xác định vùng chứa\n",
    "    tag_products_container = driver.find_element(by=By.CLASS_NAME,value='ProductGrid__grid')\n",
    "    # lấy mã sản phẩm\n",
    "    tag_product_links = tag_products_container.find_elements(by=By.CSS_SELECTOR,value='a.block_info_item_sp')\n",
    "    for tag_product_link in tag_product_links:\n",
    "        list_msp.append(tag_product_link.get_attribute('data-id'))\n",
    " \n",
    "    # lấy link ảnh\n",
    "    tag_img_links = tag_products_container.find_elements(by=By.CSS_SELECTOR,value='img.img_thumb')\n",
    "    for tag_img_link in tag_img_links:\n",
    "        list_imgs.append(tag_img_link.get_attribute('src'))\n",
    "        list_dataimg.append(tag_img_link.get_attribute('data-src'))\n",
    "    \n",
    "    print(len(list_msp))\n",
    "    print(len(list_imgs))\n",
    "    print(len(list_dataimg))\n",
    "    \n",
    "driver.close()"
   ]
  },
  {
   "cell_type": "markdown",
   "metadata": {},
   "source": [
    "## Crawl Retinol"
   ]
  },
  {
   "cell_type": "code",
   "execution_count": 8,
   "metadata": {},
   "outputs": [
    {
     "name": "stdout",
     "output_type": "stream",
     "text": [
      "1233\n",
      "1233\n",
      "1233\n"
     ]
    }
   ],
   "source": [
    "\n",
    "# #Lấy danh sách nhiều trang\n",
    "driver = webdriver.Chrome()\n",
    "driver.maximize_window()\n",
    "\n",
    "\n",
    "\n",
    "url = 'https://hasaki.vn/tag/retinol.html'\n",
    "driver.get(url)\n",
    "\n",
    "# cho 1 khoảng thời gian loaddata\n",
    "time.sleep(5)\n",
    "\n",
    "#Xác định vùng chứa\n",
    "tag_products_container = driver.find_element(by=By.CLASS_NAME,value='list_product')\n",
    "# lấy mã sản phẩm\n",
    "tag_product_links = tag_products_container.find_elements(by=By.CSS_SELECTOR,value='a.block_info_item_sp')\n",
    "for tag_product_link in tag_product_links:\n",
    "    list_msp.append(tag_product_link.get_attribute('data-id'))\n",
    "\n",
    "\n",
    "# lấy link ảnh\n",
    "tag_img_links = tag_products_container.find_elements(by=By.CSS_SELECTOR,value='img.img_thumb')\n",
    "for tag_img_link in tag_img_links:\n",
    "    list_imgs.append(tag_img_link.get_attribute('src'))\n",
    "    list_dataimg.append(tag_img_link.get_attribute('data-src'))\n",
    "\n",
    "print(len(list_msp))\n",
    "print(len(list_imgs))\n",
    "print(len(list_dataimg)) \n",
    "\n",
    "driver.close()"
   ]
  },
  {
   "cell_type": "code",
   "execution_count": 28,
   "metadata": {},
   "outputs": [],
   "source": [
    "# Tạo DataFrame\n",
    "df = pd.DataFrame({\n",
    "    \"ma_san_pham\": list_msp,\n",
    "    \"hinh_anh\": list_imgs,\n",
    "    \"hinh_anh_2\":list_dataimg\n",
    "\n",
    "})"
   ]
  },
  {
   "cell_type": "code",
   "execution_count": 19,
   "metadata": {},
   "outputs": [
    {
     "data": {
      "text/plain": [
       "(1233, 3)"
      ]
     },
     "execution_count": 19,
     "metadata": {},
     "output_type": "execute_result"
    }
   ],
   "source": [
    "df.shape"
   ]
  },
  {
   "cell_type": "code",
   "execution_count": 20,
   "metadata": {},
   "outputs": [
    {
     "data": {
      "text/plain": [
       "(1165, 3)"
      ]
     },
     "execution_count": 20,
     "metadata": {},
     "output_type": "execute_result"
    }
   ],
   "source": [
    "df=df.drop_duplicates()\n",
    "df.shape"
   ]
  },
  {
   "cell_type": "code",
   "execution_count": 21,
   "metadata": {},
   "outputs": [
    {
     "data": {
      "text/plain": [
       "(1127, 3)"
      ]
     },
     "execution_count": 21,
     "metadata": {},
     "output_type": "execute_result"
    }
   ],
   "source": [
    "df=df.dropna()\n",
    "df.shape"
   ]
  },
  {
   "cell_type": "code",
   "execution_count": 22,
   "metadata": {},
   "outputs": [],
   "source": [
    "df['ma_san_pham']=df['ma_san_pham'].astype('int')"
   ]
  },
  {
   "cell_type": "code",
   "execution_count": 29,
   "metadata": {},
   "outputs": [],
   "source": [
    "df.to_csv('hinhanh.csv',index=False)"
   ]
  }
 ],
 "metadata": {
  "kernelspec": {
   "display_name": "Python 3",
   "language": "python",
   "name": "python3"
  },
  "language_info": {
   "codemirror_mode": {
    "name": "ipython",
    "version": 3
   },
   "file_extension": ".py",
   "mimetype": "text/x-python",
   "name": "python",
   "nbconvert_exporter": "python",
   "pygments_lexer": "ipython3",
   "version": "3.10.10"
  }
 },
 "nbformat": 4,
 "nbformat_minor": 2
}
